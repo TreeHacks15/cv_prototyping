{
 "metadata": {
  "name": "",
  "signature": "sha256:eca0cbc09e6953a3a8dc728d5509400daebf85b35936c90a918f29c6b0c970fa"
 },
 "nbformat": 3,
 "nbformat_minor": 0,
 "worksheets": [
  {
   "cells": [
    {
     "cell_type": "code",
     "collapsed": false,
     "input": [
      "import sys\n",
      "sys.path.insert(0, '../')\n",
      "import numpy as np\n",
      "import scipy as sp\n",
      "import matplotlib.pyplot as plt\n",
      "%pylab inline\n",
      "\n",
      "from cv_prototyping import *\n",
      "from cv_prototyping.rubiks import Cube"
     ],
     "language": "python",
     "metadata": {},
     "outputs": [
      {
       "output_type": "stream",
       "stream": "stdout",
       "text": [
        "Populating the interactive namespace from numpy and matplotlib\n"
       ]
      }
     ],
     "prompt_number": 4
    },
    {
     "cell_type": "markdown",
     "metadata": {},
     "source": [
      "# Load Images"
     ]
    },
    {
     "cell_type": "code",
     "collapsed": false,
     "input": [
      "images = load_rubiks_video()"
     ],
     "language": "python",
     "metadata": {},
     "outputs": [],
     "prompt_number": 5
    },
    {
     "cell_type": "markdown",
     "metadata": {},
     "source": [
      "# Draw Contours"
     ]
    },
    {
     "cell_type": "code",
     "collapsed": false,
     "input": [
      "cube = Cube()\n",
      "contours = [cube.get_contours(cube)]"
     ],
     "language": "python",
     "metadata": {},
     "outputs": [],
     "prompt_number": 6
    }
   ],
   "metadata": {}
  }
 ]
}