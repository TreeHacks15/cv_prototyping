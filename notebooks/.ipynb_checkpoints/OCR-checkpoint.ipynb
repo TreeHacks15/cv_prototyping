{
 "metadata": {
  "name": "",
  "signature": "sha256:eeb962d96e7f5090d1630d7d2fb12d8bd697604ea2b2fadafbb4946d64047f8a"
 },
 "nbformat": 3,
 "nbformat_minor": 0,
 "worksheets": []
}