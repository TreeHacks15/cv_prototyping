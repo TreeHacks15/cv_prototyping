{
 "metadata": {
  "name": "",
  "signature": "sha256:653c7fbfc7fe57c80fe53286cc060118ce00a90c938d104478b4da96dd515a2b"
 },
 "nbformat": 3,
 "nbformat_minor": 0,
 "worksheets": [
  {
   "cells": [
    {
     "cell_type": "markdown",
     "metadata": {},
     "source": [
      "# Get projective matrix\n",
      "Goal: given four points defining a book, get the projective transformation that puts stuff into that plane"
     ]
    },
    {
     "cell_type": "code",
     "collapsed": false,
     "input": [
      "import numpy as np\n",
      "import scipy as sp\n",
      "import matplotlib.pyplot as plt\n",
      "%pylab inline\n",
      "import skimage"
     ],
     "language": "python",
     "metadata": {},
     "outputs": [
      {
       "output_type": "stream",
       "stream": "stdout",
       "text": [
        "Populating the interactive namespace from numpy and matplotlib\n"
       ]
      },
      {
       "output_type": "stream",
       "stream": "stderr",
       "text": [
        "WARNING: pylab import has clobbered these variables: ['draw']\n",
        "`%matplotlib` prevents importing * from pylab and numpy\n"
       ]
      }
     ],
     "prompt_number": 250
    },
    {
     "cell_type": "markdown",
     "metadata": {},
     "source": [
      "Get the book"
     ]
    },
    {
     "cell_type": "code",
     "collapsed": false,
     "input": [
      "#=====[ input vertices ]=====\n",
      "book_observed = np.array([\n",
      "                        [10, 10], #bottom left\n",
      "                        [20, 70], #top left\n",
      "                        [70, 70], #top right\n",
      "                        [70, 10] #bottom right\n",
      "                    ]).astype(np.float64)\n",
      "\n",
      "#=====[ info_rect ]=====\n",
      "info_rect = np.array([\n",
      "                        [-0.5, -0.5], #bottom left\n",
      "                        [-.5, 0],     #top left\n",
      "                        [0, 0],  #top right\n",
      "                        [0, -0.5]   #bottom right\n",
      "]).astype(np.float64)"
     ],
     "language": "python",
     "metadata": {},
     "outputs": [],
     "prompt_number": 251
    },
    {
     "cell_type": "code",
     "collapsed": false,
     "input": [
      "def to_projective(vx):\n",
      "    \"\"\"\n",
      "        given 4 ordered vertices, generates 6 in projective\n",
      "        space\n",
      "    \"\"\"\n",
      "    vout = np.zeros((8, 3))\n",
      "    vout[:, 2] = 1\n",
      "    vout[0:4, 0:2] = vx\n",
      "    vout[4, 0:2] = (vx[1,:] + vx[0,:])/2.0\n",
      "    vout[5, 0:2] = (vx[3,:] + vx[2,:])/2.0\n",
      "    vout[6, 0:2] = (vx[2,:] + vx[0,:])/2.0\n",
      "    vout[7, 0:2] = (vx[3,:] + vx[1,:])/2.0\n",
      "    return vout"
     ],
     "language": "python",
     "metadata": {},
     "outputs": [],
     "prompt_number": 227
    },
    {
     "cell_type": "code",
     "collapsed": false,
     "input": [
      "def get_projection(rin, rout):\n",
      "    \"\"\"\n",
      "        finds projective matrix going from rin to rout\n",
      "        rin, rout are sets of 4 points \n",
      "    \"\"\"\n",
      "    #=====[ Step 1: put in projective space ]=====\n",
      "    p, P = to_projective(rin), to_projective(rout)\n",
      "    \n",
      "    #=====[ Step 2: get matrix A ]===== \n",
      "    num_points = p.shape[0]\n",
      "    A = zeros((num_points*2, 6 + 2))\n",
      "    for i in range(num_points):\n",
      "        i_start = i*2\n",
      "        for j in range(2):\n",
      "            j_start = 3*j;\n",
      "            A[i_start+j, j_start:j_start+3] = p[i,:]\n",
      "\n",
      "    for i in range(num_points):\n",
      "        start = i*2\n",
      "        A[start, 6] = -(P[i,0] * p[i,0])\n",
      "        A[start, 7] = -(P[i,0] * p[i,1])\n",
      "        A[start+1, 6] = -(P[i,1] * p[i,0])\n",
      "        A[start+1, 7] = -(P[i,1] * p[i,1])\n",
      "\n",
      "    #=====[ Step 3: get B ]=====\n",
      "    B = P[:, :2].flatten()\n",
      "    \n",
      "    #=====[ Step 4: get M ]=====\n",
      "    from scipy.linalg import pinv\n",
      "    m = np.dot(pinv(A), B)\n",
      "    M = np.zeros((3, 3))\n",
      "    M[0,:] = m[0:3]\n",
      "    M[1,:] = m[3:6]\n",
      "    M[2,:2] = m[6:8]\n",
      "    M[2,2] = 1\n",
      "    return M\n",
      "\n",
      "def projective_transform(M, p):\n",
      "    \"\"\"\n",
      "        transforms point in flat plane to book plane\n",
      "    \"\"\"\n",
      "    p_proj = to_projective(p)\n",
      "    out = (M.dot(p_proj.T).T)\n",
      "    return ((out.T / out[:, 2].T).T)[:4, 0:2]"
     ],
     "language": "python",
     "metadata": {},
     "outputs": [],
     "prompt_number": 228
    },
    {
     "cell_type": "code",
     "collapsed": false,
     "input": [
      "from skimage import draw\n",
      "def draw_quad(img, vx, value=255):\n",
      "    \"\"\"draws a quadrilateral\"\"\"\n",
      "    x = vx[:,0]\n",
      "    y = vx[:,1]\n",
      "    rr, cc = draw.polygon(y, x)\n",
      "    img[rr,cc] = value\n",
      "    return img"
     ],
     "language": "python",
     "metadata": {},
     "outputs": [],
     "prompt_number": 243
    },
    {
     "cell_type": "code",
     "collapsed": false,
     "input": [
      "img = draw_quad(np.zeros((100,100)), book_observed)\n",
      "plt.imshow(img)"
     ],
     "language": "python",
     "metadata": {},
     "outputs": [
      {
       "metadata": {},
       "output_type": "pyout",
       "prompt_number": 248,
       "text": [
        "<matplotlib.image.AxesImage at 0x10b69ea10>"
       ]
      },
      {
       "metadata": {},
       "output_type": "display_data",
       "png": "[encoded data removed]",
       "text": [
        "<matplotlib.figure.Figure at 0x10b75b350>"
       ]
      }
     ],
     "prompt_number": 248
    },
    {
     "cell_type": "markdown",
     "metadata": {},
     "source": [
      "# Step 2: get M"
     ]
    },
    {
     "cell_type": "code",
     "collapsed": false,
     "input": [
      "M = get_projection(book_wanted, book_observed)\n",
      "img = np.zeros((100,100)).astype(np.uint8)\n",
      "img = draw_quad(img, book_observed, value=255)\n",
      "out = projective_transform(M, info_rect)\n",
      "img = draw_quad(img, out, value=128)\n",
      "plt.imshow(img)\n"
     ],
     "language": "python",
     "metadata": {},
     "outputs": [
      {
       "metadata": {},
       "output_type": "pyout",
       "prompt_number": 249,
       "text": [
        "<matplotlib.image.AxesImage at 0x10b932050>"
       ]
      },
      {
       "metadata": {},
       "output_type": "display_data",
       "png": "[encoded data removed]",
       "text": [
        "<matplotlib.figure.Figure at 0x10b32b150>"
       ]
      }
     ],
     "prompt_number": 249
    },
    {
     "cell_type": "code",
     "collapsed": false,
     "input": [
      "out = projective_transform(M, info_rect)\n",
      "img = np.zeros((100,100))\n",
      "draw_quad(np.zeros((100,100)), out, value=128)"
     ],
     "language": "python",
     "metadata": {},
     "outputs": [
      {
       "metadata": {},
       "output_type": "display_data",
       "png": "[encoded data removed]",
       "text": [
        "<matplotlib.figure.Figure at 0x10b5ec250>"
       ]
      }
     ],
     "prompt_number": 238
    },
    {
     "cell_type": "markdown",
     "metadata": {},
     "source": [
      "# Step 2: compute projective matrix"
     ]
    },
    {
     "cell_type": "markdown",
     "metadata": {},
     "source": [
      "Projective matrix has no constraints on it; use algorithm from http://xenia.media.mit.edu/~cwren/interpolator/"
     ]
    },
    {
     "cell_type": "code",
     "collapsed": false,
     "input": [
      "#=====[ Step 1: put in projective space ]=====\n",
      "p = to_projective(b)\n",
      "P = to_projective(vertices)\n",
      "\n",
      "#=====[ Step 2: get matrix A ]===== \n",
      "A = zeros((6*2, 6 + 2))\n",
      "for i in range(6):\n",
      "    i_start = i*2\n",
      "    for j in range(2):\n",
      "        j_start = 3*j;\n",
      "        A[i_start+j, j_start:j_start+3] = p[i,:]\n",
      "\n",
      "for i in range(6):\n",
      "    start = i*2\n",
      "    A[start, 6] = -(P[i,0] * p[i,0])\n",
      "    A[start, 7] = -(P[i,0] * p[i,1])\n",
      "    A[start+1, 6] = -(P[i,1] * p[i,0])\n",
      "    A[start+1, 7] = -(P[i,1] * p[i,1])\n",
      "\n",
      "#=====[ Step 2: get B ]=====\n",
      "B = P[:, :2].flatten()"
     ],
     "language": "python",
     "metadata": {},
     "outputs": [],
     "prompt_number": 103
    },
    {
     "cell_type": "code",
     "collapsed": false,
     "input": [
      "from scipy.linalg import pinv\n",
      "m = np.dot(pinv(A), B)\n",
      "M = np.zeros((3, 3))\n",
      "M[0,:] = m[0:3]\n",
      "M[1,:] = m[3:6]\n",
      "M[2,:2] = m[6:8]\n",
      "M[2,2] = 1"
     ],
     "language": "python",
     "metadata": {},
     "outputs": [],
     "prompt_number": 104
    },
    {
     "cell_type": "code",
     "collapsed": false,
     "input": [
      "dots = M.dot(p.T).T\n",
      "dots = (dots.T / dots[:,2]).T\n",
      "print abs(dots-P)"
     ],
     "language": "python",
     "metadata": {},
     "outputs": [
      {
       "output_type": "stream",
       "stream": "stdout",
       "text": [
        "[[  9.41376226   3.10644712   0.        ]\n",
        " [  9.62027897   1.13143777   0.        ]\n",
        " [ 10.18504073   4.09213035   0.        ]\n",
        " [ 20.87619519   0.26623805   0.        ]\n",
        " [  4.27589081   1.0689727    0.        ]\n",
        " [  1.03612815   5.18064076   0.        ]]\n"
       ]
      }
     ],
     "prompt_number": 111
    },
    {
     "cell_type": "code",
     "collapsed": false,
     "input": [
      "info_rect_new = M.dot(info_rect.T).T\n",
      "info_rect_new  = (info_rect_new.T / info_rect_new[:, 2].T).T\n",
      "info_rect_new = info_rect_new[:, :2]\n",
      "info_rect_new"
     ],
     "language": "python",
     "metadata": {},
     "outputs": [
      {
       "metadata": {},
       "output_type": "pyout",
       "prompt_number": 112,
       "text": [
        "array([[ 24.38537931,  35.07227586],\n",
        "       [-24.02029487,  48.50336731],\n",
        "       [ 38.98518767,  26.9963089 ],\n",
        "       [ 19.41376226,  28.10644712]])"
       ]
      }
     ],
     "prompt_number": 112
    },
    {
     "cell_type": "code",
     "collapsed": false,
     "input": [
      "image = np.zeros((100, 100))\n",
      "draw_quad(image, dots[0:4,0:2], value=0.5)\n",
      "draw_quad(image, )"
     ],
     "language": "python",
     "metadata": {},
     "outputs": [
      {
       "metadata": {},
       "output_type": "display_data",
       "png": "[encoded data removed]",
       "text": [
        "<matplotlib.figure.Figure at 0x10b902110>"
       ]
      }
     ],
     "prompt_number": 122
    },
    {
     "cell_type": "code",
     "collapsed": false,
     "input": [],
     "language": "python",
     "metadata": {},
     "outputs": []
    }
   ],
   "metadata": {}
  }
 ]
}